{
 "cells": [
  {
   "cell_type": "code",
   "execution_count": 1,
   "id": "5acfd024-e725-44bd-88dc-7f625330f03f",
   "metadata": {},
   "outputs": [],
   "source": [
    "import os\n",
    "cwd = os.getcwd()"
   ]
  },
  {
   "cell_type": "code",
   "execution_count": 2,
   "id": "27f341fc-34fc-482f-b8a1-f7a47d397466",
   "metadata": {},
   "outputs": [],
   "source": [
    "import glob\n",
    "\n",
    "# setup env with packages\n",
    "import numpy as np\n",
    "import pandas as pd\n",
    "import mido\n",
    "import librosa\n",
    "import os\n",
    "from music21 import converter, instrument, note, chord"
   ]
  },
  {
   "cell_type": "code",
   "execution_count": 23,
   "id": "258464bd-e58e-4612-85a1-291cc90173c3",
   "metadata": {
    "scrolled": true
   },
   "outputs": [],
   "source": [
    "# import data\n",
    "from music21 import converter, instrument, note, chord\n",
    "\n",
    "def convert_to_forward_slash(path):\n",
    "    return path.replace(\"\\\\\", \"/\")\n",
    "\n",
    "notes = []\n",
    "for file in glob.glob(\"musicnet_midis/musicnet_midis/Bach/*.mid\", recursive=True):\n",
    "    midi = converter.parse(convert_to_forward_slash(file))\n",
    "    notes_to_parse = None\n",
    "    parts = instrument.partitionByInstrument(midi)\n",
    "    if parts: # file has instrument parts\n",
    "        notes_to_parse = parts.parts[0].recurse()\n",
    "    else: # file has notes in a flat structure\n",
    "        notes_to_parse = midi.flat.notes\n",
    "    for element in notes_to_parse:\n",
    "        if isinstance(element, note.Note):\n",
    "            notes.append(str(element.pitch))\n",
    "        elif isinstance(element, chord.Chord):\n",
    "            notes.append('.'.join(str(n) for n in element.normalOrder))"
   ]
  },
  {
   "cell_type": "code",
   "execution_count": 22,
   "id": "56ce90c6-e7c7-4779-8ee7-78d722250571",
   "metadata": {},
   "outputs": [
    {
     "name": "stdout",
     "output_type": "stream",
     "text": [
      "Processing musicnet_midis/musicnet_midis/Bach\\2186_vs6_1.mid\n",
      "Processing musicnet_midis/musicnet_midis/Bach\\2191_vs6_5.mid\n",
      "Processing musicnet_midis/musicnet_midis/Bach\\2194_prelude13.mid\n",
      "Error processing musicnet_midis/musicnet_midis/Bach\\2194_prelude13.mid: index out of range\n",
      "Processing musicnet_midis/musicnet_midis/Bach\\2195_fugue3.mid\n",
      "Processing musicnet_midis/musicnet_midis/Bach\\2196_prelude3.mid\n",
      "Processing musicnet_midis/musicnet_midis/Bach\\2198_fugue22.mid\n",
      "Processing musicnet_midis/musicnet_midis/Bach\\2200_fugue16.mid\n",
      "Processing musicnet_midis/musicnet_midis/Bach\\2201_prelude16.mid\n",
      "Processing musicnet_midis/musicnet_midis/Bach\\2202_fp-1all.mid\n",
      "Processing musicnet_midis/musicnet_midis/Bach\\2203_fp-2cou.mid\n",
      "Processing musicnet_midis/musicnet_midis/Bach\\2204_fp-3sar.mid\n",
      "Processing musicnet_midis/musicnet_midis/Bach\\2207_fugue10.mid\n",
      "Processing musicnet_midis/musicnet_midis/Bach\\2208_prelude10.mid\n",
      "Processing musicnet_midis/musicnet_midis/Bach\\2209_fugue4.mid\n",
      "Processing musicnet_midis/musicnet_midis/Bach\\2210_prelude4.mid\n",
      "Processing musicnet_midis/musicnet_midis/Bach\\2211_fugue12.mid\n",
      "Error processing musicnet_midis/musicnet_midis/Bach\\2211_fugue12.mid: badly formed midi string: missing leading MTrk\n",
      "Processing musicnet_midis/musicnet_midis/Bach\\2212_prelude12.mid\n",
      "Processing musicnet_midis/musicnet_midis/Bach\\2213_fugue2.mid\n",
      "Processing musicnet_midis/musicnet_midis/Bach\\2214_prelude2.mid\n",
      "Processing musicnet_midis/musicnet_midis/Bach\\2215_fugue1.mid\n",
      "Processing musicnet_midis/musicnet_midis/Bach\\2217_cs3-1pre.mid\n",
      "Processing musicnet_midis/musicnet_midis/Bach\\2218_cs3-2all.mid\n",
      "Processing musicnet_midis/musicnet_midis/Bach\\2219_cs3-3cou.mid\n",
      "Processing musicnet_midis/musicnet_midis/Bach\\2220_cs3-4sar.mid\n",
      "Processing musicnet_midis/musicnet_midis/Bach\\2221_cs3-5bou.mid\n",
      "Processing musicnet_midis/musicnet_midis/Bach\\2222_cs3-6gig.mid\n",
      "Processing musicnet_midis/musicnet_midis/Bach\\2224_fugue7.mid\n",
      "Processing musicnet_midis/musicnet_midis/Bach\\2225_prelude7.mid\n",
      "Processing musicnet_midis/musicnet_midis/Bach\\2227_fugue6.mid\n",
      "Error processing musicnet_midis/musicnet_midis/Bach\\2227_fugue6.mid: badly formed midi string: missing leading MTrk\n",
      "Processing musicnet_midis/musicnet_midis/Bach\\2228_prelude6.mid\n",
      "Processing musicnet_midis/musicnet_midis/Bach\\2229_fugue20.mid\n",
      "Processing musicnet_midis/musicnet_midis/Bach\\2230_prelude20.mid\n",
      "Error processing musicnet_midis/musicnet_midis/Bach\\2230_prelude20.mid: badly formed midi string: missing leading MTrk\n",
      "Processing musicnet_midis/musicnet_midis/Bach\\2231_fugue21.mid\n",
      "Processing musicnet_midis/musicnet_midis/Bach\\2232_prelude21.mid\n",
      "Processing musicnet_midis/musicnet_midis/Bach\\2234_prelude11.mid\n",
      "Processing musicnet_midis/musicnet_midis/Bach\\2237_fugue23.mid\n",
      "Processing musicnet_midis/musicnet_midis/Bach\\2238_prelude23.mid\n",
      "Processing musicnet_midis/musicnet_midis/Bach\\2239_fugue17.mid\n",
      "Processing musicnet_midis/musicnet_midis/Bach\\2240_prelude17.mid\n",
      "Processing musicnet_midis/musicnet_midis/Bach\\2241_vs1_1.mid\n",
      "Processing musicnet_midis/musicnet_midis/Bach\\2242_vs1_2.mid\n",
      "Processing musicnet_midis/musicnet_midis/Bach\\2243_vs1_3.mid\n",
      "Processing musicnet_midis/musicnet_midis/Bach\\2244_vs1_4.mid\n",
      "Processing musicnet_midis/musicnet_midis/Bach\\2247_fugue9.mid\n",
      "Processing musicnet_midis/musicnet_midis/Bach\\2248_prelude9.mid\n",
      "Processing musicnet_midis/musicnet_midis/Bach\\2282_vhs1_1.mid\n",
      "Processing musicnet_midis/musicnet_midis/Bach\\2283_vhs1_2.mid\n",
      "Processing musicnet_midis/musicnet_midis/Bach\\2284_vhs1_3.mid\n",
      "Processing musicnet_midis/musicnet_midis/Bach\\2285_vhs1_4.mid\n",
      "Processing musicnet_midis/musicnet_midis/Bach\\2288_vs2_2.mid\n",
      "Processing musicnet_midis/musicnet_midis/Bach\\2289_vs2_3.mid\n",
      "Processing musicnet_midis/musicnet_midis/Bach\\2292_prelude19.mid\n",
      "Error processing musicnet_midis/musicnet_midis/Bach\\2292_prelude19.mid: badly formed midi string: missing leading MTrk\n",
      "Processing musicnet_midis/musicnet_midis/Bach\\2293_cs4-1pre.mid\n",
      "Processing musicnet_midis/musicnet_midis/Bach\\2294_cs4-2all.mid\n",
      "Processing musicnet_midis/musicnet_midis/Bach\\2295_cs4-3cou.mid\n",
      "Processing musicnet_midis/musicnet_midis/Bach\\2296_cs4-4sar.mid\n",
      "Processing musicnet_midis/musicnet_midis/Bach\\2297_cs4-5bou.mid\n",
      "Processing musicnet_midis/musicnet_midis/Bach\\2298_cs4-6gig.mid\n",
      "Processing musicnet_midis/musicnet_midis/Bach\\2300_prelude8.mid\n",
      "Processing musicnet_midis/musicnet_midis/Bach\\2302_fugue5.mid\n",
      "Processing musicnet_midis/musicnet_midis/Bach\\2303_prelude5.mid\n",
      "Processing musicnet_midis/musicnet_midis/Bach\\2304_fugue14.mid\n",
      "Processing musicnet_midis/musicnet_midis/Bach\\2305_prelude14.mid\n",
      "Error processing musicnet_midis/musicnet_midis/Bach\\2305_prelude14.mid: badly formed midi string: missing leading MTrk\n",
      "Processing musicnet_midis/musicnet_midis/Bach\\2307_fugue18.mid\n",
      "Processing musicnet_midis/musicnet_midis/Bach\\2308_prelude18.mid\n",
      "Processing musicnet_midis/musicnet_midis/Bach\\2310_prelude15.mid\n",
      "Error processing musicnet_midis/musicnet_midis/Bach\\2310_prelude15.mid: index out of range\n",
      "Processing musicnet_midis/musicnet_midis/Bach\\2659_vs2_6.mid\n"
     ]
    }
   ],
   "source": [
    "# identify bad mid files\n",
    "for file in glob.glob(\"musicnet_midis/musicnet_midis/Bach/*\", recursive=True):\n",
    "    print(f\"Processing {file}\")\n",
    "    try:\n",
    "        midi = converter.parse(convert_to_forward_slash(file))\n",
    "        # ... rest of your code ...\n",
    "    except Exception as e:\n",
    "        print(f\"Error processing {file}: {e}\")"
   ]
  },
  {
   "cell_type": "code",
   "execution_count": 6,
   "id": "1170a232-7484-4b4c-8335-b63b1a652bf2",
   "metadata": {},
   "outputs": [
    {
     "name": "stdout",
     "output_type": "stream",
     "text": [
      "Num GPUs Available:  0\n"
     ]
    }
   ],
   "source": [
    "print(\"Num GPUs Available: \", len(tf.config.list_physical_devices('GPU')))"
   ]
  },
  {
   "cell_type": "code",
   "execution_count": 4,
   "id": "2da028f8-acac-45bd-ac64-22587b6725c3",
   "metadata": {},
   "outputs": [],
   "source": [
    "import tensorflow as tf\n",
    "from tensorflow import keras\n",
    "from tensorflow.keras import layers"
   ]
  },
  {
   "cell_type": "code",
   "execution_count": null,
   "id": "51a5498f-decb-4fb1-be6d-59b37ab7dc5a",
   "metadata": {},
   "outputs": [],
   "source": []
  }
 ],
 "metadata": {
  "kernelspec": {
   "display_name": "Python 3 (ipykernel)",
   "language": "python",
   "name": "python3"
  },
  "language_info": {
   "codemirror_mode": {
    "name": "ipython",
    "version": 3
   },
   "file_extension": ".py",
   "mimetype": "text/x-python",
   "name": "python",
   "nbconvert_exporter": "python",
   "pygments_lexer": "ipython3",
   "version": "3.12.6"
  }
 },
 "nbformat": 4,
 "nbformat_minor": 5
}
